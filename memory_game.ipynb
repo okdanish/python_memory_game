def play_game():
    players = get_players() 

    # Ensure that there is at least one player to start playing
    if len(players) == 0:
        print("Minimum of a single player is needed.")
        return

    rows, columns = board_size()
    unused_cell = if_unused_cell(rows, columns)
    letters = shuffle_letters(rows, columns)
    board = produce_board(rows, columns, letters)
    scores = {player: 0 for player in players}

    # Start running the game
    run_game(players, rows, columns, unused_cell, board, scores)
    
# Get list of players playing
def get_players():
    players = []

    # Keep prompting for player names until the user presses enter
    while True:
        player = input("Enter your name / press enter to start the game: ").strip()
        if player == "":
            break
        players.append(player)
    return players

# Get the size of the board
def board_size():
    # Keep prompting for the amount of rows and columns until valid input is provided
    while True:
        rows = int(input("Enter any number of rows between 3 and 9: "))
        if rows < 3 or rows > 9:
            print("Please read the instructions and try again.")
            continue
        columns = int(input("Enter any number of columns between 3 and 9: "))
        if columns < 3 or columns > 9:
            print("Please read the instructions and try again.")
            continue
        break
    return rows, columns

# Check if there is any unused cell
def if_unused_cell(rows, columns):
    unused_cell = False

    # If there is an odd number of total cells, set unused_cell to True
    if (rows * columns) % 2 == 1:
        unused_cell = True
    return unused_cell

# Shuffle alphabets
def shuffle_letters(rows, columns):
    alphabets = "ABCDEFGHIJKLMNOPQRSTUVWXYZ"
    alphabets = list(alphabets)
    random.shuffle(alphabets)
    alphabets = "".join(alphabets)
    pairs = int((rows * columns) / 2)

    # If there are more than 26 pairs, create a new list to repeat the process
    if pairs > 26:
        letters = []
        for i in range(pairs // 26 + 1):
            letters += [letter for letter in alphabets] * 2
        letters = letters[:pairs * 2]
    else:
        letters = [letter for letter in alphabets[:pairs]] * 2 
    random.shuffle(letters)
    return letters

# Create a 2D list representing the game board
def produce_board(rows, columns, letters):
    board = []

    for i in range(0, len(letters), columns):
        row = []
        for letter in letters[i:i + columns]:
            row.append({"letter": letter, "hidden": True})
        board.append(row)
    return board

# Keep the game running
def run_game(players, rows, columns, unused_cell, board, scores):
    current_player = 0 

    # Continue prompting for inputs until the end of the game
    while True:
        print("\n" + players[current_player] + "'s turn")
        print_board(board, unused_cell)

        # First choice of cell
        row1, column1 = get_choice(rows, columns, board, unused_cell)
        board[row1][column1]["hidden"] = False
        print_board(board, unused_cell)

        # Second choice of cell
        row2, column2 = get_choice(rows, columns, board, unused_cell)
        board[row2][column2]["hidden"] = False
        print_board(board, unused_cell)

        # If both letters for both inputs are equal, increase the score for the current player
        if board[row1][column1]["letter"] == board[row2][column2]["letter"]:
            scores[players[current_player]] += 1
        else:
            # Switch player's turn and hide both cells
            current_player = (current_player + 1) % len(players)
            board[row1][column1]["hidden"] = True
            board[row2][column2]["hidden"] = True

        # Check if all cells have been revealed, print scores and winner(s), and stop the while loop
        if all(not cell["hidden"] for row in board for cell in row):
            print_board(board, unused_cell)
            winner = [player for player, score in scores.items() if score == max(scores.values())]
            print("Scores:")
            for i, player in enumerate(players):
                print("{}. {}: {}".format(i + 1, player, scores[players[i]]))
            if len(winner) == 1:
                print("The winner is " + winner[0])
            else:
                print("The winners are " + str(winner))
            break

# Get choice of player
def get_choice(rows, columns, board, unused_cell):
    while True:
        # Prompt for row and column choices
        row = int(input("Enter row (1-" + str(rows) + "): ")) - 1
        column = int(input("Enter column (1-" + str(columns) + "): ")) - 1

        # Check for invalid cell, visible cell, or unused cell when chosen
        if row < 0 or row >= rows or column < 0 or column >= columns:
            print("Invalid cell was selected.")
            continue
        if board[row][column]["hidden"] == False:
            print("Visible cell was selected.")
            continue
        if unused_cell and row == rows - 1 and column == columns:
            print("Unused cell was selected.")
            continue
        break 
    return row, column 

# Print the game board
def print_board(board, unused_cell): 
    print("  " + " ".join(str(i + 1) for i in range(len(board[0]))))
    for i, row in enumerate(board):
        row_str = " ".join("?" if cell["hidden"] else cell["letter"] for cell in row)
        row_str = " ".join(cell["letter"] for cell in row)
        if (i + 1) == len(board) and len(board) % 2 == 1 and len(board[0]) % 2 == 1:
            print(str(i + 1) + " " + row_str, end=" ")
            if unused_cell:
                print("@", end="")
        else:
            print(str(i + 1) + " " + row_str)

# Start the game
play_game()
